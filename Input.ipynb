{
  "nbformat": 4,
  "nbformat_minor": 0,
  "metadata": {
    "colab": {
      "provenance": [],
      "include_colab_link": true
    },
    "kernelspec": {
      "name": "python3",
      "display_name": "Python 3"
    },
    "language_info": {
      "name": "python"
    }
  },
  "cells": [
    {
      "cell_type": "markdown",
      "metadata": {
        "id": "view-in-github",
        "colab_type": "text"
      },
      "source": [
        "<a href=\"https://colab.research.google.com/github/aluu05/assignments/blob/main/Input.ipynb\" target=\"_parent\"><img src=\"https://colab.research.google.com/assets/colab-badge.svg\" alt=\"Open In Colab\"/></a>"
      ]
    },
    {
      "cell_type": "markdown",
      "source": [
        "# User input in Python\n",
        "\n",
        "## Objective\n",
        "1. Understand how ```input()``` function is applied.\n",
        "\n",
        "## Prerequisite\n",
        "\n",
        "- Python literals lecture & lab\n",
        "- Programming variables lecture\n",
        "\n",
        "## What do you need to complete this exercise?\n",
        "\n",
        "You can perform this exercise in any Python IDE, including JupyterLab or Google Colab.\n"
      ],
      "metadata": {
        "id": "2ITy4ycVFXBq"
      }
    },
    {
      "cell_type": "markdown",
      "source": [
        "### User input\n",
        "\n",
        "a. Write a program that prompts the user to enter the weight of a person in kilograms and outputs the equivalent weight in pounds. (Note that 1 kilogram = 2.2 pounds)."
      ],
      "metadata": {
        "id": "uQxH0KO0tsDc"
      }
    },
    {
      "cell_type": "code",
      "source": [
        "x = int(input(\"Enter Weight in Kilograms: \"))\n",
        "\n",
        "result = x*2.2\n",
        "\n",
        "print(\"Weight in pounds:\", result)"
      ],
      "metadata": {
        "colab": {
          "base_uri": "https://localhost:8080/"
        },
        "id": "N3wgQQ672rWR",
        "outputId": "8170a4fb-3d69-4a91-8a6a-8c3c710987c3"
      },
      "execution_count": 1,
      "outputs": [
        {
          "output_type": "stream",
          "name": "stdout",
          "text": [
            "Enter Weight in Kilograms: 10\n",
            "Weight in pounds: 22.0\n"
          ]
        }
      ]
    },
    {
      "cell_type": "markdown",
      "source": [
        "b. Interest on a credit card's unpaid balance is calculated using the average daily balance. Suppose that $netBalance$ is the balance shown in the bill, $payment$ is the payment made, $d1$ is the number of days in the billing cycle, and $d2$ is the number of days payment is made before biling cycle. Then, the average daily balance is: $$averageDailybalance = (netBalance \\times d1 - payment \\times d2)/d1$$.\n",
        "\n",
        "If the interest rate per month is, say, 0.0152, then the interest on the unpaid balance is: $interest = averageDailyBalance \\times 0.0152$\n",
        "\n",
        "Write a program that accepts as input $netBalance$, $payment$, $d1$, $d2$, and $interest rate per month$. The program outputs the interest."
      ],
      "metadata": {
        "id": "2ou6B-5b2ws3"
      }
    },
    {
      "cell_type": "code",
      "source": [
        "x = int(input(\"Enter Net Balance: \"))\n",
        "y = int(input(\"d1: \"))\n",
        "z = int(input(\"d2: \"))\n",
        "a = int(input(\"payment: \"))\n",
        "\n",
        "averageDailybalance = (x*y-a*2)/y\n",
        "print(\"Average Daily Balance: \", averageDailybalance)\n",
        "\n",
        "interest = averageDailybalance*0.0152\n",
        "print(\"Interest\", interest)"
      ],
      "metadata": {
        "id": "pqP70bD02x9h",
        "outputId": "ca70a1d4-d246-41da-e3c7-bc5a5d91315c",
        "colab": {
          "base_uri": "https://localhost:8080/"
        }
      },
      "execution_count": null,
      "outputs": [
        {
          "output_type": "stream",
          "name": "stdout",
          "text": [
            "Enter Net Balance: 100\n",
            "d1: 5\n",
            "d2: 20\n",
            "payment: 30\n",
            "Average Daily Balance:  88.0\n",
            "Interest 1.3376\n"
          ]
        }
      ]
    },
    {
      "cell_type": "markdown",
      "source": [
        "c. Two cars A and B leave an intersection at the same time. Car A travels west at an average speed of x miles per hour and car B travels south at an average speed of y miles per hour. Write a program that prompts the user to enter the average speed of both the cars and the elapsed time (in hours and minutes) and outputs the (shortest) distance between the cars."
      ],
      "metadata": {
        "id": "gAxw_xVk25qO"
      }
    },
    {
      "cell_type": "code",
      "source": [
        "import math\n",
        "def calculate_distance(x, y, hours, minutes):10\n",
        "x = float(input(\"Enter the average speed of car A in miles per hour: \"))\n",
        "y = float(input(\"Enter the average speed of car B in miles per hour: \"))\n",
        "hours = int(input(\"Enter the elapsed time in hours: \"))\n",
        "minutes = int(input(\"Enter the elapsed time in minutes: \"))\n",
        "elapsed_time_in_hours = hours + minutes / 60\n",
        "distance_a = x * elapsed_time_in_hours\n",
        "distance_b = y * elapsed_time_in_hours\n",
        "shortest_distance = math.sqrt(distance_a**2 + distance_b**2)\n",
        "distance = calculate_distance(x, y, hours, minutes)\n",
        "print(f\"The shortest distance between the two cars is:\",shortest_distance, \"miles\")"
      ],
      "metadata": {
        "id": "nMPuZXsH26nW",
        "outputId": "968e97bb-00ab-4759-87c7-d3ea451918e3",
        "colab": {
          "base_uri": "https://localhost:8080/"
        }
      },
      "execution_count": null,
      "outputs": [
        {
          "output_type": "stream",
          "name": "stdout",
          "text": [
            "Enter the average speed of car A in miles per hour: 60\n",
            "Enter the average speed of car B in miles per hour: 55\n",
            "Enter the elapsed time in hours: 1\n",
            "Enter the elapsed time in minutes: 24\n",
            "The shortest distance between the two cars is: 113.95174417269794 miles\n"
          ]
        }
      ]
    },
    {
      "cell_type": "markdown",
      "source": [
        "1### Troubleshooting\n",
        "\n",
        "Please troubleshoot the following issue **without using Python**, and explain your reasoning.\n",
        "\n",
        "a. ```hello = \"hello\"```  \n",
        "b. ```_var = 100```  \n",
        "c. ```!var_1 = 200```  \n",
        "d. ```print = \"print me\"```  \n",
        "e. ```False = 0```  "
      ],
      "metadata": {
        "id": "V0l5fqK-NJ2n"
      }
    },
    {
      "cell_type": "markdown",
      "source": [
        "Write your answer here"
      ],
      "metadata": {
        "id": "Cz8CqobPNO8n"
      }
    },
    {
      "cell_type": "markdown",
      "source": [
        "## Challenges\n",
        "\n",
        "Please describe the challenges you faced during the exercise."
      ],
      "metadata": {
        "id": "xQzjxKdvvbyo"
      }
    },
    {
      "cell_type": "markdown",
      "source": [
        "Figuring out how to define certain variables for the equations and to get it formatted correctly proved to be very ricky for me."
      ],
      "metadata": {
        "id": "qfJNpTB5EbY4"
      }
    }
  ]
}