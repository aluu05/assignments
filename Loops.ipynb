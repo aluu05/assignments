{
  "nbformat": 4,
  "nbformat_minor": 0,
  "metadata": {
    "colab": {
      "provenance": [],
      "include_colab_link": true
    },
    "kernelspec": {
      "name": "python3",
      "display_name": "Python 3"
    },
    "language_info": {
      "name": "python"
    }
  },
  "cells": [
    {
      "cell_type": "markdown",
      "metadata": {
        "id": "view-in-github",
        "colab_type": "text"
      },
      "source": [
        "<a href=\"https://colab.research.google.com/github/aluu05/assignments/blob/main/Loops.ipynb\" target=\"_parent\"><img src=\"https://colab.research.google.com/assets/colab-badge.svg\" alt=\"Open In Colab\"/></a>"
      ]
    },
    {
      "cell_type": "markdown",
      "source": [
        "# Loops in Python\n",
        "\n",
        "A sequence of instructions that repeats until a certain condition is met\n",
        "\n",
        "## Objective\n",
        "Understand how loops are applied\n",
        "\n",
        "## Prerequisite\n",
        "\n",
        "- Decision statements\n",
        "- Input functions\n",
        "- Python literals\n",
        "- Programming variables\n",
        "\n",
        "## What do you need to complete this exercise?\n",
        "\n",
        "You can perform this exercise in any Python IDE, including JupyterLab or Google Colab.\n"
      ],
      "metadata": {
        "id": "2ITy4ycVFXBq"
      }
    },
    {
      "cell_type": "markdown",
      "source": [
        "### While loop\n",
        "\n",
        "a. Please write Python code using a while loop to perform the following steps.\n",
        "\n",
        "1. Take any non-negative and non-zero integer number and name it ```n0```\n",
        "2. if the number is even, evaluate a new ```n0``` as ```n0 ÷ 2```;\n",
        "3. Otherwise, if the number is odd, evaluate a new ```n0``` as ```3 * n0 + 1```;\n",
        "4. if ```n0``` is not equal to 1, go to point 2.\n",
        "\n",
        "#### Sample input: ```16```\n",
        "\n",
        "#### Expected output: ###\n",
        "\n",
        "```\n",
        "8\n",
        "4\n",
        "2\n",
        "1\n",
        "steps = 4\n",
        "```"
      ],
      "metadata": {
        "id": "uQxH0KO0tsDc"
      }
    },
    {
      "cell_type": "code",
      "source": [
        "\n",
        "n0 = int(input(\"Enter a non-negative, non-zero integer: \"))\n",
        "\n",
        "\n",
        "while n0 != 1:\n",
        "    if n0 % 2 == 0:\n",
        "        n0 = n0 // 2\n",
        "    else:\n",
        "        n0 = 3 * n0 + 1\n",
        "\n",
        "    print(n0)"
      ],
      "metadata": {
        "id": "5M7ksW8xsC3k",
        "outputId": "b076109f-e8e4-4b3a-d992-d19b6893b845",
        "colab": {
          "base_uri": "https://localhost:8080/"
        }
      },
      "execution_count": null,
      "outputs": [
        {
          "output_type": "stream",
          "name": "stdout",
          "text": [
            "Enter a non-negative, non-zero integer: 16\n",
            "8\n",
            "4\n",
            "2\n",
            "1\n"
          ]
        }
      ]
    },
    {
      "cell_type": "markdown",
      "source": [
        "b. Write code that uses a while loop and runs indefinitely. Modify the same code to resolve the infinite loop issue."
      ],
      "metadata": {
        "id": "S3X6hdy5sI-s"
      }
    },
    {
      "cell_type": "code",
      "source": [
        "while True:\n",
        "    user_input = int(input(\"Enter a number: \"))\n",
        "    if user_input == 0:\n",
        "        print(\"Exiting the loop.\")\n",
        "        break\n",
        "    else:\n",
        "        print(f\"You entered: {user_input}\")"
      ],
      "metadata": {
        "id": "cs0pk1_qsNY0",
        "outputId": "4f0d712a-5161-4c0d-e0e9-43c84dbbbc25",
        "colab": {
          "base_uri": "https://localhost:8080/"
        }
      },
      "execution_count": null,
      "outputs": [
        {
          "output_type": "stream",
          "name": "stdout",
          "text": [
            "Enter a number: 20\n",
            "You entered: 20\n",
            "Enter a number: 30\n",
            "You entered: 30\n",
            "Enter a number: 40\n",
            "You entered: 40\n",
            "Enter a number: 20\n",
            "You entered: 20\n",
            "Enter a number: 20\n",
            "You entered: 20\n",
            "Enter a number: 0\n",
            "Exiting the loop.\n"
          ]
        }
      ]
    },
    {
      "cell_type": "markdown",
      "source": [
        "c. Write a program that takes two integers as input and asks the user to choose an arithmetic operation to perform with those numbers. At the end of the program, prompt the user with the question, \"Do you want to continue?\" If the user selects \"Y\" or \"y,\" the program should restart; otherwise, it should exit and display the message, \"Have a good day.\""
      ],
      "metadata": {
        "id": "oxXvMBKNsX8M"
      }
    },
    {
      "cell_type": "code",
      "source": [
        "def perform_arithmetic_operations():\n",
        "    while True:\n",
        "        try:\n",
        "            num1 = int(input(\"Enter the first integer: \"))\n",
        "            num2 = int(input(\"Enter the second integer: \"))\n",
        "        except ValueError:\n",
        "            print(\"Invalid input. Please enter valid integers.\")\n",
        "            continue\n",
        "\n",
        "        print(\"Choose an arithmetic operation:\")\n",
        "        print(\"1. Addition\")\n",
        "        print(\"2. Subtraction\")\n",
        "        print(\"3. Multiplication\")\n",
        "        print(\"4. Division\")\n",
        "\n",
        "        choice = input(\"Enter the number of your choice (1/2/3/4): \")\n",
        "\n",
        "        if choice == \"1\":\n",
        "            result = num1 + num2\n",
        "            print(f\"The result of addition is: {result}\")\n",
        "        elif choice == \"2\":\n",
        "            result = num1 - num2\n",
        "            print(f\"The result of subtraction is: {result}\")\n",
        "        elif choice == \"3\":\n",
        "            result = num1 * num2\n",
        "            print(f\"The result of multiplication is: {result}\")\n",
        "        elif choice == \"4\":\n",
        "            if num2 != 0:\n",
        "                result = num1 / num2\n",
        "                print(f\"The result of division is: {result}\")\n",
        "            else:\n",
        "                print(\"Error: Division by zero is not allowed.\")\n",
        "                continue\n",
        "        else:\n",
        "            print(\"Invalid choice. Please select a valid operation.\")\n",
        "            continue\n",
        "\n",
        "        continue_choice = input(\"Do you want to continue? (Y/N): \").strip().lower()\n",
        "\n",
        "        if continue_choice != 'y':\n",
        "            print(\"Have a good day!\")\n",
        "            break\n",
        "perform_arithmetic_operations()"
      ],
      "metadata": {
        "id": "w9Ai1I_JsYw9",
        "outputId": "e15a2085-41a9-4135-f274-2a2956531ada",
        "colab": {
          "base_uri": "https://localhost:8080/"
        }
      },
      "execution_count": null,
      "outputs": [
        {
          "output_type": "stream",
          "name": "stdout",
          "text": [
            "Enter the first integer: 20\n",
            "Enter the second integer: 30\n",
            "Choose an arithmetic operation:\n",
            "1. Addition\n",
            "2. Subtraction\n",
            "3. Multiplication\n",
            "4. Division\n",
            "Enter the number of your choice (1/2/3/4): 3\n",
            "The result of multiplication is: 600\n",
            "Do you want to continue? (Y/N): n\n",
            "Have a good day!\n"
          ]
        }
      ]
    },
    {
      "cell_type": "markdown",
      "source": [
        "### 2. For loops\n",
        "\n",
        "a. Write a code that counts the total number of characters in a text and also counts each character individually. For example, consider the sentence \"To be, or not to be, that is the question.\" The code should determine the total number of letters and how many times each letter appears, including specific counts for the letters 't' and 'o', etc. Ignore the upper and lower cases letters, and any punctuations symbols. Use only for loop, while loop, break and continue statements where necessary.\n",
        "\n",
        "#### Sample input: ```To be, or not to be, that is the question```\n",
        "\n",
        "#### Expected output: ###\n",
        "\n",
        "```\n",
        "Total number of alphabets: 30\n",
        "Total number of distinct alphabets are:\n",
        "T = 7\n",
        "o = 4\n",
        "```\n",
        "> **Note:** The expected output above is incomplete.\n"
      ],
      "metadata": {
        "id": "IeiOBf1Tse1c"
      }
    },
    {
      "cell_type": "code",
      "source": [
        "import string\n",
        "\n",
        "def count_t_and_o(text):\n",
        "    text = text.lower()\n",
        "    text = ''.join([char for char in text if char in string.ascii_lowercase])\n",
        "\n",
        "    total_letters = len(text)\n",
        "    letter_counts = {'t': 0, 'o': 0}\n",
        "\n",
        "    for char in text:\n",
        "        if char == 't':\n",
        "            letter_counts['t'] += 1\n",
        "        elif char == 'o':\n",
        "            letter_counts['o'] += 1\n",
        "\n",
        "    print(f\"Total number of letters: {total_letters}\")\n",
        "    print(f\"Count of 't': {letter_counts['t']}\")\n",
        "    print(f\"Count of 'o': {letter_counts['o']}\")\n",
        "\n",
        "sentence = \"To be, or not to be, that is the question.\"\n",
        "\n",
        "count_t_and_o(sentence)\n"
      ],
      "metadata": {
        "id": "FprfxHfksh2-",
        "outputId": "f7d9d14f-bad1-4113-e4d8-cb55aa1d6503",
        "colab": {
          "base_uri": "https://localhost:8080/"
        }
      },
      "execution_count": null,
      "outputs": [
        {
          "output_type": "stream",
          "name": "stdout",
          "text": [
            "Total number of letters: 30\n",
            "Count of 't': 7\n",
            "Count of 'o': 5\n"
          ]
        }
      ]
    },
    {
      "cell_type": "markdown",
      "source": [
        "## Challenges\n",
        "\n",
        "Please describe the challenges you faced during the exercise."
      ],
      "metadata": {
        "id": "xQzjxKdvvbyo"
      }
    },
    {
      "cell_type": "markdown",
      "source": [
        "Writing some of the loops were actually very time consuming and they had a lot of parts that needed to be put in to produce the correct output."
      ],
      "metadata": {
        "id": "qfJNpTB5EbY4"
      }
    }
  ]
}