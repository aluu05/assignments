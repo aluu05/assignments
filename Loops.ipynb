{
  "nbformat": 4,
  "nbformat_minor": 0,
  "metadata": {
    "colab": {
      "provenance": [],
      "include_colab_link": true
    },
    "kernelspec": {
      "name": "python3",
      "display_name": "Python 3"
    },
    "language_info": {
      "name": "python"
    }
  },
  "cells": [
    {
      "cell_type": "markdown",
      "metadata": {
        "id": "view-in-github",
        "colab_type": "text"
      },
      "source": [
        "<a href=\"https://colab.research.google.com/github/aluu05/assignments/blob/main/Loops.ipynb\" target=\"_parent\"><img src=\"https://colab.research.google.com/assets/colab-badge.svg\" alt=\"Open In Colab\"/></a>"
      ]
    },
    {
      "cell_type": "markdown",
      "source": [
        "# Loops in Python\n",
        "\n",
        "A sequence of instructions that repeats until a certain condition is met\n",
        "\n",
        "## Objective\n",
        "Understand how loops are applied\n",
        "\n",
        "## Prerequisite\n",
        "\n",
        "- Decision statements\n",
        "- Input functions\n",
        "- Python literals\n",
        "- Programming variables\n",
        "\n",
        "## What do you need to complete this exercise?\n",
        "\n",
        "You can perform this exercise in any Python IDE, including JupyterLab or Google Colab.\n"
      ],
      "metadata": {
        "id": "2ITy4ycVFXBq"
      }
    },
    {
      "cell_type": "markdown",
      "source": [
        "### While loop\n",
        "\n",
        "a. Please write Python code using a while loop to perform the following steps.\n",
        "\n",
        "1. Take any non-negative and non-zero integer number and name it ```n0```\n",
        "2. if the number is even, evaluate a new ```n0``` as ```n0 ÷ 2```;\n",
        "3. Otherwise, if the number is odd, evaluate a new ```n0``` as ```3 * n0 + 1```;\n",
        "4. if ```n0``` is not equal to 1, go to point 2.\n",
        "\n",
        "#### Sample input: ```16```\n",
        "\n",
        "#### Expected output: ###\n",
        "\n",
        "```\n",
        "8\n",
        "4\n",
        "2\n",
        "1\n",
        "steps = 4\n",
        "```"
      ],
      "metadata": {
        "id": "uQxH0KO0tsDc"
      }
    },
    {
      "cell_type": "code",
      "source": [
        "\n",
        "n0 = int(input(\"Enter a non-negative, non-zero integer: \"))\n",
        "\n",
        "\n",
        "while n0 != 1:\n",
        "    if n0 % 2 == 0:\n",
        "        n0 = n0 // 2\n",
        "    else:\n",
        "        n0 = 3 * n0 + 1\n",
        "\n",
        "    print(n0)"
      ],
      "metadata": {
        "id": "5M7ksW8xsC3k",
        "outputId": "b076109f-e8e4-4b3a-d992-d19b6893b845",
        "colab": {
          "base_uri": "https://localhost:8080/"
        }
      },
      "execution_count": null,
      "outputs": [
        {
          "output_type": "stream",
          "name": "stdout",
          "text": [
            "Enter a non-negative, non-zero integer: 16\n",
            "8\n",
            "4\n",
            "2\n",
            "1\n"
          ]
        }
      ]
    },
    {
      "cell_type": "markdown",
      "source": [
        "b. Write code that uses a while loop and runs indefinitely. Modify the same code to resolve the infinite loop issue."
      ],
      "metadata": {
        "id": "S3X6hdy5sI-s"
      }
    },
    {
      "cell_type": "code",
      "source": [
        "while True:\n",
        "    user_input = int(input(\"Enter a number: \"))\n",
        "    if user_input == 0:\n",
        "        print(\"Exiting the loop.\")\n",
        "        break\n",
        "    else:\n",
        "        print(f\"You entered: {user_input}\")"
      ],
      "metadata": {
        "id": "cs0pk1_qsNY0",
        "outputId": "4f0d712a-5161-4c0d-e0e9-43c84dbbbc25",
        "colab": {
          "base_uri": "https://localhost:8080/"
        }
      },
      "execution_count": null,
      "outputs": [
        {
          "output_type": "stream",
          "name": "stdout",
          "text": [
            "Enter a number: 20\n",
            "You entered: 20\n",
            "Enter a number: 30\n",
            "You entered: 30\n",
            "Enter a number: 40\n",
            "You entered: 40\n",
            "Enter a number: 20\n",
            "You entered: 20\n",
            "Enter a number: 20\n",
            "You entered: 20\n",
            "Enter a number: 0\n",
            "Exiting the loop.\n"
          ]
        }
      ]
    },
    {
      "cell_type": "markdown",
      "source": [
        "c. Write a program that takes two integers as input and asks the user to choose an arithmetic operation to perform with those numbers. At the end of the program, prompt the user with the question, \"Do you want to continue?\" If the user selects \"Y\" or \"y,\" the program should restart; otherwise, it should exit and display the message, \"Have a good day.\""
      ],
      "metadata": {
        "id": "oxXvMBKNsX8M"
      }
    },
    {
      "cell_type": "code",
      "source": [
        "while True:\n",
        "    num1 = int(input(\"Enter the first integer: \"))\n",
        "    num2 = int(input(\"Enter the second integer: \"))\n",
        "\n",
        "    print(\"Choose an arithmetic operation:\")\n",
        "    print(\"1. Add\")\n",
        "    print(\"2. Subtract\")\n",
        "    print(\"3. Multiply\")\n",
        "    print(\"4. Divide\")\n",
        "    choice = input(\"Enter the number of your choice (1, 2, 3, or 4): \").strip()\n",
        "\n",
        "    if choice == '1':\n",
        "        result = num1 + num2\n",
        "        print(f\"The result of {num1} + {num2} is {result}.\")\n",
        "    elif choice == '2':\n",
        "        result = num1 - num2\n",
        "        print(f\"The result of {num1} - {num2} is {result}.\")\n",
        "    elif choice == '3':\n",
        "        result = num1 * num2\n",
        "        print(f\"The result of {num1} * {num2} is {result}.\")\n",
        "    elif choice == '4':\n",
        "        if num2 != 0:\n",
        "            result = num1 / num2\n",
        "            print(f\"The result of {num1} / {num2} is {result}.\")\n",
        "        else:\n",
        "            print(\"Error: Division by zero is not allowed.\")\n",
        "    else:\n",
        "        print(\"Invalid choice, please choose a valid operation.\")\n",
        "\n",
        "    continue_choice = input(\"\\nDo you want to continue? (Y/N): \").strip()\n",
        "\n",
        "    if continue_choice.lower() != 'y':\n",
        "        print(\"Have a good day.\")\n",
        "        break\n"
      ],
      "metadata": {
        "id": "w9Ai1I_JsYw9",
        "outputId": "9757a721-9102-470c-b6e9-cffe359f0497",
        "colab": {
          "base_uri": "https://localhost:8080/"
        }
      },
      "execution_count": 2,
      "outputs": [
        {
          "output_type": "stream",
          "name": "stdout",
          "text": [
            "Enter the first integer: 20\n",
            "Enter the second integer: 30\n",
            "Choose an arithmetic operation:\n",
            "1. Add\n",
            "2. Subtract\n",
            "3. Multiply\n",
            "4. Divide\n",
            "Enter the number of your choice (1, 2, 3, or 4): 3\n",
            "The result of 20 * 30 is 600.\n",
            "\n",
            "Do you want to continue? (Y/N): y\n",
            "Enter the first integer: 10\n",
            "Enter the second integer: 5\n",
            "Choose an arithmetic operation:\n",
            "1. Add\n",
            "2. Subtract\n",
            "3. Multiply\n",
            "4. Divide\n",
            "Enter the number of your choice (1, 2, 3, or 4): 2\n",
            "The result of 10 - 5 is 5.\n",
            "\n",
            "Do you want to continue? (Y/N): n\n",
            "Have a good day.\n"
          ]
        }
      ]
    },
    {
      "cell_type": "markdown",
      "source": [
        "### 2. For loops\n",
        "\n",
        "a. Write a code that counts the total number of characters in a text and also counts each character individually. For example, consider the sentence \"To be, or not to be, that is the question.\" The code should determine the total number of letters and how many times each letter appears, including specific counts for the letters 't' and 'o', etc. Ignore the upper and lower cases letters, and any punctuations symbols. Use only for loop, while loop, break and continue statements where necessary.\n",
        "\n",
        "#### Sample input: ```To be, or not to be, that is the question```\n",
        "\n",
        "#### Expected output: ###\n",
        "\n",
        "```\n",
        "Total number of alphabets: 30\n",
        "Total number of distinct alphabets are:\n",
        "T = 7\n",
        "o = 4\n",
        "```\n",
        "> **Note:** The expected output above is incomplete.\n"
      ],
      "metadata": {
        "id": "IeiOBf1Tse1c"
      }
    },
    {
      "cell_type": "code",
      "source": [
        "text = input(\"Enter a sentence: \")\n",
        "\n",
        "t_count = 0\n",
        "o_count = 0\n",
        "\n",
        "text = text.lower()\n",
        "\n",
        "for char in text:\n",
        "    if char.isalpha():\n",
        "        if char == 't':\n",
        "            t_count += 1\n",
        "        elif char == 'o':\n",
        "            o_count += 1\n",
        "print(f\"Total number of 't' (including 'T'): {t_count}\")\n",
        "print(f\"Total number of 'o' (including 'O'): {o_count}\")\n"
      ],
      "metadata": {
        "id": "FprfxHfksh2-",
        "outputId": "0db8047e-331c-498b-f033-625ec8a9f3c2",
        "colab": {
          "base_uri": "https://localhost:8080/"
        }
      },
      "execution_count": 3,
      "outputs": [
        {
          "output_type": "stream",
          "name": "stdout",
          "text": [
            "Enter a sentence: To be, or not to be, that is the question\n",
            "Total number of 't' (including 'T'): 7\n",
            "Total number of 'o' (including 'O'): 5\n"
          ]
        }
      ]
    },
    {
      "cell_type": "markdown",
      "source": [
        "## Challenges\n",
        "\n",
        "Please describe the challenges you faced during the exercise."
      ],
      "metadata": {
        "id": "xQzjxKdvvbyo"
      }
    },
    {
      "cell_type": "markdown",
      "source": [
        "Writing some of the loops were actually very time consuming and they had a lot of parts that needed to be put in to produce the correct output."
      ],
      "metadata": {
        "id": "qfJNpTB5EbY4"
      }
    }
  ]
}