{
  "nbformat": 4,
  "nbformat_minor": 0,
  "metadata": {
    "colab": {
      "provenance": [],
      "include_colab_link": true
    },
    "kernelspec": {
      "name": "python3",
      "display_name": "Python 3"
    },
    "language_info": {
      "name": "python"
    }
  },
  "cells": [
    {
      "cell_type": "markdown",
      "metadata": {
        "id": "view-in-github",
        "colab_type": "text"
      },
      "source": [
        "<a href=\"https://colab.research.google.com/github/aluu05/assignments/blob/main/Tuples.ipynb\" target=\"_parent\"><img src=\"https://colab.research.google.com/assets/colab-badge.svg\" alt=\"Open In Colab\"/></a>"
      ]
    },
    {
      "cell_type": "markdown",
      "source": [
        "# Tuples in Python\n",
        "A tuple in Python is an ordered, immutable sequence of elements. Tuples are defined using parentheses and can contain elements of different data types, including other tuples. Once a tuple is created, its elements cannot be modified, added, or removed. This immutability makes tuples suitable for representing fixed collections of data.\n",
        "\n",
        "## Objective\n",
        "- Comprehend the application of tuples\n",
        "- Understand how a tuple uses a memory\n",
        "- Apply various operations on tuples\n",
        "\n",
        "## Prerequisite\n",
        "\n",
        "- Lists\n",
        "- Decision and loops\n",
        "- Input functions\n",
        "- Python literals\n",
        "- Programming variables\n",
        "\n",
        "\n",
        "## What do you need to complete this exercise?\n",
        "\n",
        "You can perform this exercise in any Python IDE, including JupyterLab or Google Colab.\n"
      ],
      "metadata": {
        "id": "2ITy4ycVFXBq"
      }
    },
    {
      "cell_type": "markdown",
      "source": [
        "# 1. Exercising tuples\n",
        "\n",
        "1a) Take five inputs from an user and save it in a tuple called ```my_tuple```"
      ],
      "metadata": {
        "id": "uQxH0KO0tsDc"
      }
    },
    {
      "cell_type": "code",
      "source": [
        "input1 = input(\"Enter the first input: \")\n",
        "input2 = input(\"Enter the second input: \")\n",
        "input3 = input(\"Enter the third input: \")\n",
        "input4 = input(\"Enter the fourth input: \")\n",
        "input5 = input(\"Enter the fifth input: \")\n",
        "\n",
        "my_tuple = (input1, input2, input3, input4, input5)\n",
        "\n",
        "print(my_tuple)\n"
      ],
      "metadata": {
        "id": "rRTflD1C9mjt",
        "outputId": "98f4c1e9-c576-4734-c0c9-26cb72dd2936",
        "colab": {
          "base_uri": "https://localhost:8080/"
        }
      },
      "execution_count": 1,
      "outputs": [
        {
          "output_type": "stream",
          "name": "stdout",
          "text": [
            "Enter the first value: pole\n",
            "Enter the second value: 10\n",
            "Enter the third value: element\n",
            "Enter the fourth value: six\n",
            "Enter the fifth value: 9\n",
            "('pole', '10', 'element', 'six', '9')\n"
          ]
        }
      ]
    },
    {
      "cell_type": "markdown",
      "source": [
        "1b. How do you assign a single element in a tuple?"
      ],
      "metadata": {
        "id": "0jkTuRdlA6sk"
      }
    },
    {
      "cell_type": "code",
      "source": [
        "t1 = my_tuple + (200,)\n",
        "print(t1)"
      ],
      "metadata": {
        "id": "8ZIVOfAMQt2Z",
        "outputId": "ec601183-50fb-47ea-9630-0f4a5715bec4",
        "colab": {
          "base_uri": "https://localhost:8080/"
        }
      },
      "execution_count": 2,
      "outputs": [
        {
          "output_type": "stream",
          "name": "stdout",
          "text": [
            "('pole', '10', 'element', 'six', '9', 200)\n"
          ]
        }
      ]
    },
    {
      "cell_type": "markdown",
      "source": [
        "1c. ```my_tuple = (1,2,3,4,3,2,1,2,3,5,4,3,2,1)```\n",
        "Count the repeated integers and print the result on the console."
      ],
      "metadata": {
        "id": "Wv1LOaouA_Gq"
      }
    },
    {
      "cell_type": "code",
      "source": [
        "my_tuple = (1, 2, 3, 4, 3, 2, 1, 2, 3, 5, 4, 3, 2, 1)\n",
        "\n",
        "count_dict = {}\n",
        "\n",
        "for num in my_tuple:\n",
        "    if num in count_dict:\n",
        "        count_dict[num] += 1\n",
        "    else:\n",
        "        count_dict[num] = 1\n",
        "\n",
        "\n",
        "for num, count in count_dict.items():\n",
        "    if count > 0:\n",
        "        print(f\"Number {num} is repeated {count} times.\")\n"
      ],
      "metadata": {
        "id": "cF0UyMIqQ8V3",
        "outputId": "342bbbe4-dc6f-439d-fd05-3ba209676571",
        "colab": {
          "base_uri": "https://localhost:8080/"
        }
      },
      "execution_count": 3,
      "outputs": [
        {
          "output_type": "stream",
          "name": "stdout",
          "text": [
            "Number 1 is repeated 3 times.\n",
            "Number 2 is repeated 4 times.\n",
            "Number 3 is repeated 4 times.\n",
            "Number 4 is repeated 2 times.\n",
            "Number 5 is repeated 1 times.\n"
          ]
        }
      ]
    },
    {
      "cell_type": "markdown",
      "source": [
        "1d. ```my_tuple = my_tuple + my_tuple```\n",
        "\n",
        "\n",
        "Proof that ```my_tuple``` in part c is different than the ```my_tuple``` in part d.\n"
      ],
      "metadata": {
        "id": "0IWZsl7LBGvD"
      }
    },
    {
      "cell_type": "code",
      "source": [
        "my_tuple = my_tuple + my_tuple\n",
        "print(my_tuple)"
      ],
      "metadata": {
        "id": "S5kO371-Q_NL",
        "outputId": "341eef2d-0667-4ccc-d59b-36eba8b4ade6",
        "colab": {
          "base_uri": "https://localhost:8080/"
        }
      },
      "execution_count": 5,
      "outputs": [
        {
          "output_type": "stream",
          "name": "stdout",
          "text": [
            "(1, 2, 3, 4, 3, 2, 1, 2, 3, 5, 4, 3, 2, 1, 1, 2, 3, 4, 3, 2, 1, 2, 3, 5, 4, 3, 2, 1, 1, 2, 3, 4, 3, 2, 1, 2, 3, 5, 4, 3, 2, 1, 1, 2, 3, 4, 3, 2, 1, 2, 3, 5, 4, 3, 2, 1)\n"
          ]
        }
      ]
    },
    {
      "cell_type": "markdown",
      "source": [
        "1e. Explain why the following operations aren’t legal for\n",
        "the tuple. Answer without using the Python.\n",
        "```\n",
        "x = (1,2,3,4)\n",
        "x.append(1)\n",
        "x[1] = \"hello\"\n",
        "del x[2]\n",
        "```"
      ],
      "metadata": {
        "id": "gdub5W3O0isl"
      }
    },
    {
      "cell_type": "markdown",
      "source": [
        "The append function is being attempted but it is not possible since tuples are immutable. Same thing with the other functions, they are trying to change the first value of the tuple and deleting part of the tuple respectively."
      ],
      "metadata": {
        "id": "sLoX5Dtt0_rX"
      }
    },
    {
      "cell_type": "markdown",
      "source": [
        "# 2. Packing and unpacking tuples"
      ],
      "metadata": {
        "id": "tJlIQIYjBPLX"
      }
    },
    {
      "cell_type": "markdown",
      "source": [
        "Python permits tuples to appear on the left side of an assignment operator, in which case variables in the tuple receive the corresponding values from the tuple on the right side of the assignment operator. Here’s a simple example:"
      ],
      "metadata": {
        "id": "QkNQDkq7zAOr"
      }
    },
    {
      "cell_type": "code",
      "source": [
        "(one, two, three, four) =  (1, 2, 3, 4)"
      ],
      "metadata": {
        "id": "70JnWsa6zE0M"
      },
      "execution_count": null,
      "outputs": []
    },
    {
      "cell_type": "markdown",
      "source": [
        "2a. What is the data type of each variable?"
      ],
      "metadata": {
        "id": "O0-uz6MdzJ4a"
      }
    },
    {
      "cell_type": "markdown",
      "source": [
        "Each variable is an integer."
      ],
      "metadata": {
        "id": "urfPDr8J4AiW"
      }
    },
    {
      "cell_type": "markdown",
      "source": [
        "2b. Python has an extended unpacking feature, allowing an element marked with * to absorb any number of elements not matching the other elements. For example,"
      ],
      "metadata": {
        "id": "6vXaWJBczn5u"
      }
    },
    {
      "cell_type": "code",
      "source": [
        "x = (1, 2, 3, 4)\n",
        "a, b, *c = x\n",
        "a, b, c"
      ],
      "metadata": {
        "colab": {
          "base_uri": "https://localhost:8080/"
        },
        "id": "Dkgby1wqzyx8",
        "outputId": "d759257d-5a49-4c5d-d22d-2b252a62c8ca"
      },
      "execution_count": null,
      "outputs": [
        {
          "output_type": "execute_result",
          "data": {
            "text/plain": [
              "(1, 2, [3, 4])"
            ]
          },
          "metadata": {},
          "execution_count": 2
        }
      ]
    },
    {
      "cell_type": "markdown",
      "source": [
        "2c. What will be the result of ```a, *b, c = x```?"
      ],
      "metadata": {
        "id": "l9xBGV0K0L6_"
      }
    },
    {
      "cell_type": "code",
      "source": [
        "x = (1, 2, 3, 4)\n",
        "a, *b, c = x\n",
        "a, b, c"
      ],
      "metadata": {
        "id": "fQr5X9N0RceU",
        "outputId": "9c81f752-4457-487e-b235-1b7e6fce3534",
        "colab": {
          "base_uri": "https://localhost:8080/"
        }
      },
      "execution_count": 9,
      "outputs": [
        {
          "output_type": "execute_result",
          "data": {
            "text/plain": [
              "(1, [2, 3], 4)"
            ]
          },
          "metadata": {},
          "execution_count": 9
        }
      ]
    },
    {
      "cell_type": "markdown",
      "source": [
        "# 3. Memory management\n",
        "\n",
        "```\n",
        "my_x = [100,200,300,400]\n",
        "my_y = (200,300,400,500)\n",
        "\n",
        "```\n",
        "Discuss how memory addresses are assigned to each index of the list and the tuple. Pay attention to new addresses & re-used addresses.\n",
        "\n",
        "| Index |     my_x      |      my_y     |\n",
        "|   -   |       -       |       -       |\n",
        "|   0   |10754024       |10757224       |\n",
        "|   1   |10757224       |138306679163120|\n",
        "|   2   |138306679162800|138306679162832|\n",
        "|   3   |138306679162928|138306679165968|\n",
        "\n"
      ],
      "metadata": {
        "id": "QV96NnL82MPT"
      }
    },
    {
      "cell_type": "code",
      "source": [
        "my_x = [100,200,300,400]\n",
        "my_y = (200,300,400,500)\n",
        "\n",
        "for element in my_x:\n",
        "    print(f\"Memory address of {element} in my_x: {id(element)}\")\n",
        "for element in my_y:\n",
        "    print(f\"Memory address of {element} in my_y: {id(element)}\")"
      ],
      "metadata": {
        "id": "TT2dX_UC5ZRG",
        "outputId": "566cb1e0-687d-49a5-9641-2fb45eb78785",
        "colab": {
          "base_uri": "https://localhost:8080/"
        }
      },
      "execution_count": 12,
      "outputs": [
        {
          "output_type": "stream",
          "name": "stdout",
          "text": [
            "Memory address of 100 in my_x: 10754024\n",
            "Memory address of 200 in my_x: 10757224\n",
            "Memory address of 300 in my_x: 138306679162480\n",
            "Memory address of 400 in my_x: 138306679165552\n",
            "Memory address of 200 in my_y: 10757224\n",
            "Memory address of 300 in my_y: 138306679162608\n",
            "Memory address of 400 in my_y: 138306679162448\n",
            "Memory address of 500 in my_y: 138306679165648\n"
          ]
        }
      ]
    },
    {
      "cell_type": "markdown",
      "source": [
        "## Challenges\n",
        "\n",
        "Please describe the challenges you faced during the exercise."
      ],
      "metadata": {
        "id": "xQzjxKdvvbyo"
      }
    },
    {
      "cell_type": "markdown",
      "source": [
        "I did not experience any difficutlies completeing this exercise."
      ],
      "metadata": {
        "id": "qfJNpTB5EbY4"
      }
    }
  ]
}