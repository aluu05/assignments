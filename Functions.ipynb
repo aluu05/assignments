{
  "nbformat": 4,
  "nbformat_minor": 0,
  "metadata": {
    "colab": {
      "provenance": [],
      "include_colab_link": true
    },
    "kernelspec": {
      "name": "python3",
      "display_name": "Python 3"
    },
    "language_info": {
      "name": "python"
    }
  },
  "cells": [
    {
      "cell_type": "markdown",
      "metadata": {
        "id": "view-in-github",
        "colab_type": "text"
      },
      "source": [
        "<a href=\"https://colab.research.google.com/github/aluu05/assignments/blob/main/Functions.ipynb\" target=\"_parent\"><img src=\"https://colab.research.google.com/assets/colab-badge.svg\" alt=\"Open In Colab\"/></a>"
      ]
    },
    {
      "cell_type": "markdown",
      "source": [
        "# Functions in Python\n",
        "Functions are designed to perform the same task repeatedly. For the user, they operate like a black box, with no visibility into how the function is implemented. Users provide compatible arguments to the function, or in some cases, no arguments at all, and the function executes according to the programmer's implementation.\n",
        "\n",
        "## Objective\n",
        "- Understand how arguments are used in functions\n",
        "- Function variables visibility and global variables\n",
        "- Troubleshoot functions\n",
        "\n",
        "## Prerequisite\n",
        "\n",
        "- Lists & tuples\n",
        "- Decision and loops\n",
        "\n",
        "\n",
        "## What do you need to complete this exercise?\n",
        "\n",
        "You can perform this exercise in any Python IDE, including JupyterLab or Google Colab.\n"
      ],
      "metadata": {
        "id": "2ITy4ycVFXBq"
      }
    },
    {
      "cell_type": "markdown",
      "source": [
        "# Create a unit conversion program using functions\n",
        "1a. The user selects kilometers per liter (kpl), and the response will be provided in miles per gallon (mpg). The units must be interchangeable, so the program will ask the user whether to convert from kpl to mpg or vice versa.\n",
        "\n",
        "The program will prompt the user for input and deliver output with the appropriate units.\n",
        "\n",
        "Additionally, the program will include input validation. For example, it will not accept letter inputs and will provide an error message to the user when invalid input is detected.\n",
        "\n",
        "The function will also allow multiple arguments, enabling the user to convert multiple values at once.\n",
        "\n",
        "Research and find out the conversion factor between the units."
      ],
      "metadata": {
        "id": "uQxH0KO0tsDc"
      }
    },
    {
      "cell_type": "code",
      "source": [
        "def convert_units(values, convert_to):\n",
        "    conversion_factor = 2.352145\n",
        "\n",
        "    if convert_to.lower() == \"mpg\":\n",
        "        try:\n",
        "            results = [value * conversion_factor for value in values]\n",
        "            return results\n",
        "        except TypeError:\n",
        "            return \"Invalid input. Please provide numerical values.\"\n",
        "\n",
        "    elif convert_to.lower() == \"kpl\":\n",
        "        try:\n",
        "            results = [value / conversion_factor for value in values]\n",
        "            return results\n",
        "        except TypeError:\n",
        "            return \"Invalid input. Please provide numerical values.\"\n",
        "    else:\n",
        "        return \"Invalid conversion type. Please select either 'kpl' or 'mpg'.\"\n",
        "\n",
        "def get_input():\n",
        "    try:\n",
        "        direction = input(\"Do you want to convert from kpl to mpg or mpg to kpl? (Enter 'kpl' or 'mpg'): \").strip().lower()\n",
        "\n",
        "        if direction not in ['kpl', 'mpg']:\n",
        "            raise ValueError(\"Invalid direction entered. Please select 'kpl' or 'mpg'.\")\n",
        "\n",
        "        values = input(\"Enter the values to convert (separated by commas): \").strip().split(',')\n",
        "\n",
        "        try:\n",
        "            values = [float(val) for val in values]\n",
        "        except ValueError:\n",
        "            raise ValueError(\"Please enter valid numbers for the conversion.\")\n",
        "\n",
        "        results = convert_units(values, direction)\n",
        "\n",
        "        if isinstance(results, list):\n",
        "            for original, result in zip(values, results):\n",
        "                print(f\"{original} {'kpl' if direction == 'mpg' else 'mpg'} = {result:.2f} {'mpg' if direction == 'kpl' else 'kpl'}\")\n",
        "        else:\n",
        "            print(results)\n",
        "\n",
        "    except ValueError as e:\n",
        "        print(f\"Error: {e}\")\n",
        "\n",
        "get_input()\n"
      ],
      "metadata": {
        "id": "rRTflD1C9mjt",
        "outputId": "191c32c6-8485-4040-fb99-857b35fb0a01",
        "colab": {
          "base_uri": "https://localhost:8080/"
        }
      },
      "execution_count": 1,
      "outputs": [
        {
          "output_type": "stream",
          "name": "stdout",
          "text": [
            "Do you want to convert from kpl to mpg or mpg to kpl? (Enter 'kpl' or 'mpg'): mpg\n",
            "Enter the values to convert (separated by commas): 20, 300\n",
            "20.0 kpl = 47.04 kpl\n",
            "300.0 kpl = 705.64 kpl\n"
          ]
        }
      ]
    },
    {
      "cell_type": "markdown",
      "source": [
        "1b. How would you write a function that could take any number of unnamed arguments and print their values out in reverse order?\n"
      ],
      "metadata": {
        "id": "0jkTuRdlA6sk"
      }
    },
    {
      "cell_type": "code",
      "source": [
        "def print_reverse(*args):\n",
        "    for value in reversed(args):\n",
        "        print(value)\n",
        "print_reverse(1, 2, 3, 'apple', 'banana', 5.6)"
      ],
      "metadata": {
        "id": "oy2WyPICGQ15",
        "outputId": "9953a2f9-7c24-4c27-b6dc-2be99d625457",
        "colab": {
          "base_uri": "https://localhost:8080/"
        }
      },
      "execution_count": 12,
      "outputs": [
        {
          "output_type": "stream",
          "name": "stdout",
          "text": [
            "5.6\n",
            "banana\n",
            "apple\n",
            "3\n",
            "2\n",
            "1\n"
          ]
        }
      ]
    },
    {
      "cell_type": "markdown",
      "source": [
        "1c. What would be the result of changing a list or dictionary that was passed into a function as a parameter value? Which operations would be likely to create changes that would be visible outside the function? What steps might you take to minimize that risk?\n",
        "\n",
        "Explain the above statements with the help of code."
      ],
      "metadata": {
        "id": "sL7k6J70zdzH"
      }
    },
    {
      "cell_type": "code",
      "source": [
        "def modify_list(my_list):\n",
        "    my_list.append(4)\n",
        "    print(\"Inside function:\", my_list)\n",
        "\n",
        "original_list = [1, 2, 3]\n",
        "modify_list(original_list)\n",
        "\n",
        "print(\"Outside function:\", original_list)\n"
      ],
      "metadata": {
        "id": "8ZIVOfAMQt2Z",
        "outputId": "8dcacebb-fe31-4c6c-ef61-2869bbd54a73",
        "colab": {
          "base_uri": "https://localhost:8080/"
        }
      },
      "execution_count": 13,
      "outputs": [
        {
          "output_type": "stream",
          "name": "stdout",
          "text": [
            "Inside function: [1, 2, 3, 4]\n",
            "Outside function: [1, 2, 3, 4]\n"
          ]
        }
      ]
    },
    {
      "cell_type": "markdown",
      "source": [
        "1d. Assuming that ```x = 5```, what will be the value of ```x``` after ```funct_1()``` below executes? After ```funct_2()``` executes?\n"
      ],
      "metadata": {
        "id": "1wWF-wZx2h9s"
      }
    },
    {
      "cell_type": "code",
      "source": [
        "x = 5\n",
        "def funct_1():\n",
        "  x=3\n",
        "\n",
        "def funct_2():\n",
        "  global x\n",
        "  x=2\n",
        "\n",
        "funct_1()\n",
        "print(\"After funct_1:\", x)\n",
        "\n",
        "funct_2()\n",
        "print(\"After funct_2:\", x)"
      ],
      "metadata": {
        "id": "nvd-xB2v3AYh",
        "outputId": "143b749c-32cf-47d5-d21c-7ecb54c43753",
        "colab": {
          "base_uri": "https://localhost:8080/"
        }
      },
      "execution_count": 15,
      "outputs": [
        {
          "output_type": "stream",
          "name": "stdout",
          "text": [
            "After funct_1: 5\n",
            "After funct_2: 2\n"
          ]
        }
      ]
    },
    {
      "cell_type": "markdown",
      "source": [
        "# 2. Troubleshooting"
      ],
      "metadata": {
        "id": "tJlIQIYjBPLX"
      }
    },
    {
      "cell_type": "markdown",
      "source": [
        "Correct the following code. There might be more than one correct answers. Explain your reasoning."
      ],
      "metadata": {
        "id": "V8HkUVFy6DlD"
      }
    },
    {
      "cell_type": "code",
      "source": [
        "def my_func(a,b,**c):\n",
        "  print(c)\n",
        "\n",
        "my_func(1,2,3,4,5,6)"
      ],
      "metadata": {
        "id": "bJzMzbxIsAU9",
        "outputId": "58151ebc-d0d5-4f9a-dc09-ca464e743a0b",
        "colab": {
          "base_uri": "https://localhost:8080/",
          "height": 176
        }
      },
      "execution_count": 16,
      "outputs": [
        {
          "output_type": "error",
          "ename": "TypeError",
          "evalue": "my_func() takes 2 positional arguments but 6 were given",
          "traceback": [
            "\u001b[0;31m---------------------------------------------------------------------------\u001b[0m",
            "\u001b[0;31mTypeError\u001b[0m                                 Traceback (most recent call last)",
            "\u001b[0;32m<ipython-input-16-ab5e2798406c>\u001b[0m in \u001b[0;36m<cell line: 0>\u001b[0;34m()\u001b[0m\n\u001b[1;32m      2\u001b[0m   \u001b[0mprint\u001b[0m\u001b[0;34m(\u001b[0m\u001b[0mc\u001b[0m\u001b[0;34m)\u001b[0m\u001b[0;34m\u001b[0m\u001b[0;34m\u001b[0m\u001b[0m\n\u001b[1;32m      3\u001b[0m \u001b[0;34m\u001b[0m\u001b[0m\n\u001b[0;32m----> 4\u001b[0;31m \u001b[0mmy_func\u001b[0m\u001b[0;34m(\u001b[0m\u001b[0;36m1\u001b[0m\u001b[0;34m,\u001b[0m\u001b[0;36m2\u001b[0m\u001b[0;34m,\u001b[0m\u001b[0;36m3\u001b[0m\u001b[0;34m,\u001b[0m\u001b[0;36m4\u001b[0m\u001b[0;34m,\u001b[0m\u001b[0;36m5\u001b[0m\u001b[0;34m,\u001b[0m\u001b[0;36m6\u001b[0m\u001b[0;34m)\u001b[0m\u001b[0;34m\u001b[0m\u001b[0;34m\u001b[0m\u001b[0m\n\u001b[0m",
            "\u001b[0;31mTypeError\u001b[0m: my_func() takes 2 positional arguments but 6 were given"
          ]
        }
      ]
    },
    {
      "cell_type": "code",
      "source": [
        "def my_func(a, b, **c):\n",
        "    print(c)\n",
        "\n",
        "my_func(1, 2, x=3, y=4, z=5, w=6)"
      ],
      "metadata": {
        "id": "3Tf6gXUoNiFL",
        "outputId": "ec292a4b-250f-4b85-c871-31ed20ec1b29",
        "colab": {
          "base_uri": "https://localhost:8080/"
        }
      },
      "execution_count": 17,
      "outputs": [
        {
          "output_type": "stream",
          "name": "stdout",
          "text": [
            "{'x': 3, 'y': 4, 'z': 5, 'w': 6}\n"
          ]
        }
      ]
    },
    {
      "cell_type": "markdown",
      "source": [
        "**c is designed to accept keyword arguments, we make 3, 4, 5, 6 into keyword arguments to be captured in the **c dictionary"
      ],
      "metadata": {
        "id": "QYoK98RcO0Tq"
      }
    },
    {
      "cell_type": "markdown",
      "source": [
        "Using the following code, x should print 100 but it prints 10, why?"
      ],
      "metadata": {
        "id": "sYDRYXa9vbX4"
      }
    },
    {
      "cell_type": "code",
      "source": [
        "def my_func_global():\n",
        "  x = 100\n",
        "\n",
        "global x\n",
        "x = 10\n",
        "my_func_global()\n",
        "print(x)"
      ],
      "metadata": {
        "id": "w93b1OeVNYuf",
        "colab": {
          "base_uri": "https://localhost:8080/"
        },
        "outputId": "229120a9-c16f-4407-9173-52cb03bd62ba"
      },
      "execution_count": 18,
      "outputs": [
        {
          "output_type": "stream",
          "name": "stdout",
          "text": [
            "10\n"
          ]
        }
      ]
    },
    {
      "cell_type": "markdown",
      "source": [
        "The statement global x is incorrect. The global keyword should be used inside a function to indicate that you're referring to a global variable, not to declare a global variable outside of a function."
      ],
      "metadata": {
        "id": "LzeLU0UkPcuq"
      }
    },
    {
      "cell_type": "markdown",
      "source": [
        "## Challenges\n",
        "\n",
        "Please describe the challenges you faced during the exercise."
      ],
      "metadata": {
        "id": "xQzjxKdvvbyo"
      }
    },
    {
      "cell_type": "markdown",
      "source": [
        "I had no challenges with this."
      ],
      "metadata": {
        "id": "qfJNpTB5EbY4"
      }
    }
  ]
}