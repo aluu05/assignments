{
  "nbformat": 4,
  "nbformat_minor": 0,
  "metadata": {
    "colab": {
      "provenance": [],
      "include_colab_link": true
    },
    "kernelspec": {
      "name": "python3",
      "display_name": "Python 3"
    },
    "language_info": {
      "name": "python"
    }
  },
  "cells": [
    {
      "cell_type": "markdown",
      "metadata": {
        "id": "view-in-github",
        "colab_type": "text"
      },
      "source": [
        "<a href=\"https://colab.research.google.com/github/aluu05/assignments/blob/main/Dictionary.ipynb\" target=\"_parent\"><img src=\"https://colab.research.google.com/assets/colab-badge.svg\" alt=\"Open In Colab\"/></a>"
      ]
    },
    {
      "cell_type": "markdown",
      "source": [
        "# Dictionary in Python\n",
        "In Python, a dictionary is a built-in data structure that stores data in key-value pairs. It is an unordered, mutable (changeable) collection, where each key must be unique and immutable (e.g., string, number, or tuple), while the value can be of any data type.\n",
        "\n",
        "## Objective\n",
        "- Understand how to create dictionary in Python\n",
        "- Apply various methods on a dictionary\n",
        "- Troubleshoot dictionary\n",
        "\n",
        "## Prerequisite\n",
        "\n",
        "- Lists & tuples\n",
        "- Decision and loops\n",
        "- Input functions\n",
        "\n",
        "\n",
        "## What do you need to complete this exercise?\n",
        "\n",
        "You can perform this exercise in any Python IDE, including JupyterLab or Google Colab.\n"
      ],
      "metadata": {
        "id": "2ITy4ycVFXBq"
      }
    },
    {
      "cell_type": "markdown",
      "source": [
        "# 1. Creating and accessing dictionary\n",
        "\n",
        "1a) Create dictionary of your choice of keys and values. Create dictionary size of 10 elements."
      ],
      "metadata": {
        "id": "uQxH0KO0tsDc"
      }
    },
    {
      "cell_type": "code",
      "source": [
        "fruit_colors = {\n",
        "    \"Apple\": \"Red\",\n",
        "    \"Banana\": \"Yellow\",\n",
        "    \"Grapes\": \"Purple\",\n",
        "    \"Orange\": \"Orange\",\n",
        "    \"Lemon\": \"Yellow\",\n",
        "    \"Blueberry\": \"Blue\",\n",
        "    \"Watermelon\": \"Green\",\n",
        "    \"Pineapple\": \"Brown\",\n",
        "    \"Strawberry\": \"Red\",\n",
        "    \"Peach\": \"Pink\"\n",
        "}\n"
      ],
      "metadata": {
        "id": "rRTflD1C9mjt"
      },
      "execution_count": 1,
      "outputs": []
    },
    {
      "cell_type": "markdown",
      "source": [
        "1b. Take inputs from a user and add them in a dictionary called ```my_user_dict```\n",
        "\n",
        "Here is the example of an user input:\n",
        "\n",
        "SSN: 111-222-3333\n",
        "\n",
        "Name: Steve Hawkins\n",
        "\n",
        "The code continue to take user input and provide an option at the end of the user input; \"Do you want to continue (Y/N)\"\n",
        "\n",
        "Identify how many keys you need to create a dictionary.\n",
        "\n",
        "__Restrictions: Do not use functions and/or exceptions in this exercise__"
      ],
      "metadata": {
        "id": "0jkTuRdlA6sk"
      }
    },
    {
      "cell_type": "code",
      "source": [
        "my_user_dict = {}\n",
        "\n",
        "while True:\n",
        "    # Input the SSN and Name\n",
        "    SSN = input(\"Enter SSN: \")\n",
        "    Name = input(\"Enter Name: \")\n",
        "\n",
        "    # Add them to the dictionary\n",
        "    my_user_dict[\"SSN\"] = SSN\n",
        "    my_user_dict[\"Name\"] = Name\n",
        "\n",
        "    # Ask if the user wants to continue\n",
        "    continue_input = input(\"Do you want to continue (Y/N)? \")\n",
        "\n",
        "    if continue_input.upper() != 'Y':\n",
        "        break\n",
        "\n",
        "# Display the final dictionary\n",
        "print(\"\\nFinal dictionary:\")\n",
        "print(my_user_dict)\n"
      ],
      "metadata": {
        "id": "8ZIVOfAMQt2Z",
        "outputId": "7d52ad99-2500-4992-9adc-8afa0b11b189",
        "colab": {
          "base_uri": "https://localhost:8080/"
        }
      },
      "execution_count": 3,
      "outputs": [
        {
          "output_type": "stream",
          "name": "stdout",
          "text": [
            "Enter SSN: 344455779\n",
            "Enter Name: Herbert\n",
            "Do you want to continue (Y/N)? Y\n",
            "Enter SSN: 223567689\n",
            "Enter Name: Jim\n",
            "Do you want to continue (Y/N)? n\n",
            "\n",
            "Final dictionary:\n",
            "{'SSN': '223567689', 'Name': 'Jim'}\n"
          ]
        }
      ]
    },
    {
      "cell_type": "markdown",
      "source": [
        "In this scenario, we need two keys, one for the SSN and one for the name."
      ],
      "metadata": {
        "id": "Rr3mmALzA4fJ"
      }
    },
    {
      "cell_type": "code",
      "source": [
        "# List of tuples where each tuple represents a key-value pair\n",
        "\n",
        "a = [(\"a\", 1), (\"b\", 2), (\"c\", 3)]\n",
        "\n",
        "# Convert the list of tuples into a dictionary\n",
        "\n",
        "res = dict(a)\n",
        "\n",
        "print(res)"
      ],
      "metadata": {
        "id": "cF0UyMIqQ8V3",
        "colab": {
          "base_uri": "https://localhost:8080/"
        },
        "outputId": "18bb3632-1eb7-4ca3-8a1e-1833028e49e2"
      },
      "execution_count": null,
      "outputs": [
        {
          "output_type": "stream",
          "name": "stdout",
          "text": [
            "{'a': 1, 'b': 2, 'c': 3}\n"
          ]
        }
      ]
    },
    {
      "cell_type": "markdown",
      "source": [
        "1c. Based on the given tuple, create a code which checks for valid key & value pairs, and check for key duplication.\n",
        "\n",
        "The code should provide assistance to a user to correct the error. For key duplication, ask user to change the key\n",
        "\n",
        "__Restrictions: Do not use functions and/or exceptions in this exercise__"
      ],
      "metadata": {
        "id": "J6CAWQq0HBv6"
      }
    },
    {
      "cell_type": "code",
      "source": [
        "my_list = [(\"Name\", \"Sarah Connor\"), (\"Date of birth\", \"1 Jan 1980\"), (\"Address\",\"1000 Black Mountain Drive\",92126),(\"Name\", \"Jim Hawkins\")]\n",
        "my_list"
      ],
      "metadata": {
        "colab": {
          "base_uri": "https://localhost:8080/"
        },
        "id": "zhseVMcKL-89",
        "outputId": "ff216241-8243-4743-d5ef-ed629364ab3f"
      },
      "execution_count": null,
      "outputs": [
        {
          "output_type": "execute_result",
          "data": {
            "text/plain": [
              "[('Name', 'Sarah Connor'),\n",
              " ('Date of birth', '1 Jan 1980'),\n",
              " ('Address', '1000 Black Mountain Drive', 92126),\n",
              " ('Name', 'Jim Hawkins')]"
            ]
          },
          "metadata": {},
          "execution_count": 6
        }
      ]
    },
    {
      "cell_type": "code",
      "source": [
        "my_list = [\n",
        "    (\"Name\", \"Sarah Connor\"),\n",
        "    (\"Date of birth\", \"1 Jan 1980\"),\n",
        "    (\"Address\", \"1000 Black Mountain Drive\", 92126),\n",
        "    (\"Name\", \"Jim Hawkins\")\n",
        "]\n",
        "\n",
        "my_dict = {}\n",
        "\n",
        "for pair in my_list:\n",
        "    if len(pair) != 2:\n",
        "        print(f\"Error: Invalid tuple {pair}. It should contain exactly 2 elements.\")\n",
        "    else:\n",
        "        key, value = pair\n",
        "\n",
        "        if key in my_dict:\n",
        "            print(f\"Error: The key '{key}' already exists in the dictionary.\")\n",
        "\n",
        "            new_key = input(f\"Please enter a new key for the value '{value}': \")\n",
        "\n",
        "            my_dict[new_key] = value\n",
        "            print(f\"Key '{key}' has been replaced with '{new_key}'.\")\n",
        "        else:\n",
        "            my_dict[key] = value\n",
        "\n",
        "print(\"\\nFinal dictionary:\")\n",
        "print(my_dict)\n"
      ],
      "metadata": {
        "id": "i8JboXu9AvCV",
        "outputId": "b70ea86f-8b83-4cd9-b5f4-7463c40251dd",
        "colab": {
          "base_uri": "https://localhost:8080/"
        }
      },
      "execution_count": 10,
      "outputs": [
        {
          "output_type": "stream",
          "name": "stdout",
          "text": [
            "Error: Invalid tuple ('Address', '1000 Black Mountain Drive', 92126). It should contain exactly 2 elements.\n",
            "Error: The key 'Name' already exists in the dictionary.\n",
            "Please enter a new key for the value 'Jim Hawkins': Jim Hawkins\n",
            "Key 'Name' has been replaced with 'Jim Hawkins'.\n",
            "\n",
            "Final dictionary:\n",
            "{'Name': 'Sarah Connor', 'Date of birth': '1 Jan 1980', 'Jim Hawkins': 'Jim Hawkins'}\n"
          ]
        }
      ]
    },
    {
      "cell_type": "markdown",
      "source": [
        "1d. Convert the following list into a dictionary. Automate the process by using the loop.\n",
        "\n",
        "__Restrictions: Do not use functions and/or exceptions in this exercise__"
      ],
      "metadata": {
        "id": "h7Jc8xH-JEmh"
      }
    },
    {
      "cell_type": "code",
      "source": [
        "my_list = [10012,\"Mango\",43221,\"Gala apple\",14321,\"Banana\",10011,\"Watermelon\"]\n",
        "\n",
        "my_dict = {}\n",
        "\n",
        "for i in range(0, len(my_list), 2):\n",
        "    key = my_list[i]\n",
        "    value = my_list[i + 1]\n",
        "    my_dict[key] = value\n",
        "\n",
        "print(my_dict)\n"
      ],
      "metadata": {
        "id": "Nfv-ATQUKlW2",
        "outputId": "0218b614-5ab3-4de9-ee4b-fa3070942e49",
        "colab": {
          "base_uri": "https://localhost:8080/"
        }
      },
      "execution_count": 5,
      "outputs": [
        {
          "output_type": "stream",
          "name": "stdout",
          "text": [
            "{10012: 'Mango', 43221: 'Gala apple', 14321: 'Banana', 10011: 'Watermelon'}\n"
          ]
        }
      ]
    },
    {
      "cell_type": "markdown",
      "source": [
        "1e. Use the following text and count the number of words using dictionary. Remember The or the counts as 2.\n",
        "\n",
        "**The tiger (Panthera tigris) is a large cat and a member of the genus Panthera native to Asia. It has a powerful, muscular body with a large head and paws, a long tail and orange fur with black, mostly vertical stripes. It is traditionally classified into nine recent subspecies, though some recognise only two subspecies, mainland Asian tigers and the island tigers of the Sunda Islands.**"
      ],
      "metadata": {
        "id": "lLeAeQwmSHWL"
      }
    },
    {
      "cell_type": "code",
      "source": [
        "text = \"\"\"The tiger (Panthera tigris) is a large cat and a member of the genus Panthera native to Asia. It has a powerful, muscular body with a large head and paws, a long tail and orange fur with black, mostly vertical stripes. It is traditionally classified into nine recent subspecies, though some recognise only two subspecies, mainland Asian tigers and the island tigers of the Sunda Islands.\"\"\"\n",
        "\n",
        "words = text.split()\n",
        "\n",
        "word_count = {}\n",
        "\n",
        "for word in words:\n",
        "    word = word.strip(\".,()\")\n",
        "\n",
        "    if word.lower() == \"the\":\n",
        "        word = \"the\"\n",
        "        count = 2\n",
        "    else:\n",
        "        count = 1\n",
        "\n",
        "    if word in word_count:\n",
        "        word_count[word] += count\n",
        "    else:\n",
        "        word_count[word] = count\n",
        "\n",
        "print(word_count)\n"
      ],
      "metadata": {
        "id": "oZlS9OhgFSWE",
        "outputId": "2125b597-cd5f-4907-99f4-3a2e661ac2d1",
        "colab": {
          "base_uri": "https://localhost:8080/"
        }
      },
      "execution_count": 6,
      "outputs": [
        {
          "output_type": "stream",
          "name": "stdout",
          "text": [
            "{'the': 8, 'tiger': 1, 'Panthera': 2, 'tigris': 1, 'is': 2, 'a': 5, 'large': 2, 'cat': 1, 'and': 4, 'member': 1, 'of': 2, 'genus': 1, 'native': 1, 'to': 1, 'Asia': 1, 'It': 2, 'has': 1, 'powerful': 1, 'muscular': 1, 'body': 1, 'with': 2, 'head': 1, 'paws': 1, 'long': 1, 'tail': 1, 'orange': 1, 'fur': 1, 'black': 1, 'mostly': 1, 'vertical': 1, 'stripes': 1, 'traditionally': 1, 'classified': 1, 'into': 1, 'nine': 1, 'recent': 1, 'subspecies': 2, 'though': 1, 'some': 1, 'recognise': 1, 'only': 1, 'two': 1, 'mainland': 1, 'Asian': 1, 'tigers': 2, 'island': 1, 'Sunda': 1, 'Islands': 1}\n"
          ]
        }
      ]
    },
    {
      "cell_type": "markdown",
      "source": [
        "# 2. Troubleshooting"
      ],
      "metadata": {
        "id": "tJlIQIYjBPLX"
      }
    },
    {
      "cell_type": "code",
      "source": [
        "d_orig = {123:\"Coconut\"}\n",
        "d_copy = d_orig\n",
        "print(d_orig)\n",
        "print(d_copy)"
      ],
      "metadata": {
        "id": "70JnWsa6zE0M",
        "colab": {
          "base_uri": "https://localhost:8080/"
        },
        "outputId": "d4b3d786-0556-4ddf-9dc9-02ce241f1502"
      },
      "execution_count": null,
      "outputs": [
        {
          "output_type": "stream",
          "name": "stdout",
          "text": [
            "{123: 'Coconut'}\n",
            "{123: 'Coconut'}\n"
          ]
        }
      ]
    },
    {
      "cell_type": "markdown",
      "source": [
        "2a. Change the content of ```d_copy``` and make sure the content does not affect the ```d_orig``` dictionary. Verify using the code."
      ],
      "metadata": {
        "id": "eF1Xhaw4M1CG"
      }
    },
    {
      "cell_type": "code",
      "source": [
        "d_orig = {123: \"Coconut\"}\n",
        "\n",
        "d_copy = d_orig.copy()\n",
        "\n",
        "d_copy[123] = \"Mango\"\n",
        "\n",
        "print(\"Original Dictionary (d_orig):\", d_orig)\n",
        "print(\"Modified Dictionary (d_copy):\", d_copy)\n"
      ],
      "metadata": {
        "id": "w93b1OeVNYuf",
        "outputId": "8c60a751-3903-483e-9ff8-1308a1badef6",
        "colab": {
          "base_uri": "https://localhost:8080/"
        }
      },
      "execution_count": 7,
      "outputs": [
        {
          "output_type": "stream",
          "name": "stdout",
          "text": [
            "Original Dictionary (d_orig): {123: 'Coconut'}\n",
            "Modified Dictionary (d_copy): {123: 'Mango'}\n"
          ]
        }
      ]
    },
    {
      "cell_type": "markdown",
      "source": [
        "2b. If it changes the content of the original dictionary, then propose how can you solve this problem."
      ],
      "metadata": {
        "id": "O0-uz6MdzJ4a"
      }
    },
    {
      "cell_type": "markdown",
      "source": [
        "You can make a deepcopy so that any changes made to the copy is not mirrored onto the original."
      ],
      "metadata": {
        "id": "xI8vzFT7HD9c"
      }
    },
    {
      "cell_type": "markdown",
      "source": [
        "2c. Write a code that generates the following error and explain why there is such an error.\n",
        "```\n",
        "TypeError: unhashable type: 'list'\n",
        "```"
      ],
      "metadata": {
        "id": "6vXaWJBczn5u"
      }
    },
    {
      "cell_type": "code",
      "source": [
        "my_dict = {[1, 2, 3]: \"A list as a key\"}\n"
      ],
      "metadata": {
        "id": "dUoHv95LOCYr",
        "outputId": "f2776f2d-f230-464b-a1e6-652aaf9d4251",
        "colab": {
          "base_uri": "https://localhost:8080/",
          "height": 141
        }
      },
      "execution_count": 8,
      "outputs": [
        {
          "output_type": "error",
          "ename": "TypeError",
          "evalue": "unhashable type: 'list'",
          "traceback": [
            "\u001b[0;31m---------------------------------------------------------------------------\u001b[0m",
            "\u001b[0;31mTypeError\u001b[0m                                 Traceback (most recent call last)",
            "\u001b[0;32m<ipython-input-8-ca166d924898>\u001b[0m in \u001b[0;36m<cell line: 0>\u001b[0;34m()\u001b[0m\n\u001b[0;32m----> 1\u001b[0;31m \u001b[0mmy_dict\u001b[0m \u001b[0;34m=\u001b[0m \u001b[0;34m{\u001b[0m\u001b[0;34m[\u001b[0m\u001b[0;36m1\u001b[0m\u001b[0;34m,\u001b[0m \u001b[0;36m2\u001b[0m\u001b[0;34m,\u001b[0m \u001b[0;36m3\u001b[0m\u001b[0;34m]\u001b[0m\u001b[0;34m:\u001b[0m \u001b[0;34m\"A list as a key\"\u001b[0m\u001b[0;34m}\u001b[0m\u001b[0;34m\u001b[0m\u001b[0;34m\u001b[0m\u001b[0m\n\u001b[0m",
            "\u001b[0;31mTypeError\u001b[0m: unhashable type: 'list'"
          ]
        }
      ]
    },
    {
      "cell_type": "markdown",
      "source": [
        "This error occurs because Hashable types are types that have a fixed hash value, allowing them to be used as dictionary keys or set elements, while lists do not have a fixed hash value because their contents can change, so their hash value can change during their lifetime."
      ],
      "metadata": {
        "id": "QwP2G_YaHi_E"
      }
    },
    {
      "cell_type": "markdown",
      "source": [
        "## Challenges\n",
        "\n",
        "Please describe the challenges you faced during the exercise."
      ],
      "metadata": {
        "id": "xQzjxKdvvbyo"
      }
    },
    {
      "cell_type": "markdown",
      "source": [
        "There were no challenges completing this exercise."
      ],
      "metadata": {
        "id": "qfJNpTB5EbY4"
      }
    }
  ]
}